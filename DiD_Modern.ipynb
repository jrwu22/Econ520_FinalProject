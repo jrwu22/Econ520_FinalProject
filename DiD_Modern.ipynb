{
  "cells": [
    {
      "cell_type": "markdown",
      "metadata": {
        "id": "view-in-github",
        "colab_type": "text"
      },
      "source": [
        "<a href=\"https://colab.research.google.com/github/jrwu22/Econ520_FinalProject/blob/main/DiD_Modern.ipynb\" target=\"_parent\"><img src=\"https://colab.research.google.com/assets/colab-badge.svg\" alt=\"Open In Colab\"/></a>"
      ]
    },
    {
      "cell_type": "markdown",
      "metadata": {
        "id": "80HEeryWKbUC"
      },
      "source": [
        "# Modern DiD Approaches\n",
        "\n"
      ]
    },
    {
      "cell_type": "code",
      "execution_count": 1,
      "metadata": {
        "id": "xLrAjLZBKbUD"
      },
      "outputs": [],
      "source": [
        "import numpy as np\n",
        "import pandas as pd\n",
        "import matplotlib.pyplot as plt\n",
        "\n",
        "import warnings\n",
        "warnings.simplefilter('ignore')\n",
        "\n",
        "%config InlineBackend.figure_format = \"retina\""
      ]
    },
    {
      "cell_type": "code",
      "source": [
        "import subprocess\n",
        "\n",
        "# Installation on Google Colab\n",
        "try:\n",
        "    import google.colab\n",
        "    subprocess.run(['python', '-m', 'pip', 'install', 'pyfixest'])\n",
        "except ImportError:\n",
        "    pass\n",
        "\n",
        "import pyfixest as pf"
      ],
      "metadata": {
        "id": "9WqQ-qVyKtAp"
      },
      "execution_count": 3,
      "outputs": []
    },
    {
      "cell_type": "markdown",
      "metadata": {
        "id": "DmikCDUKKbUE"
      },
      "source": [
        "The data is from [Callaway (2022)](https://bcallaway11.github.io/files/Callaway-Chapter-2022/main.pdf), annual county level data from the United States covering 2001 to 2007. The outcome variable is log county-level teen employment, and the treatment variable is an indicator for whether the county has a minimum wage above the federal minimum wage. See [Callaway and Sant’Anna (2021)](https://www.sciencedirect.com/science/article/abs/pii/S0304407620303948) for additional details on the data."
      ]
    },
    {
      "cell_type": "code",
      "execution_count": 4,
      "metadata": {
        "id": "ZIbr0H4qKbUF",
        "outputId": "7ec68e64-7e00-486b-daae-dcd1b53a891c",
        "colab": {
          "base_uri": "https://localhost:8080/",
          "height": 363
        }
      },
      "outputs": [
        {
          "output_type": "execute_result",
          "data": {
            "text/plain": [
              "     year  treated     G      lemp      lpop   lavg_pay  region    id\n",
              "554  2001        0  2007  5.556828  9.614137  10.057495       4  8003\n",
              "555  2002        0  2007  5.356586  9.623972  10.097120       4  8003\n",
              "556  2003        0  2007  5.389072  9.620859  10.107611       4  8003\n",
              "557  2004        0  2007  5.356586  9.626548  10.140337       4  8003\n",
              "558  2005        0  2007  5.303305  9.637958  10.175497       4  8003\n",
              "559  2006        0  2007  5.342334  9.633056  10.218590       4  8003\n",
              "560  2007        1  2007  5.220356  9.635412  10.289702       4  8003\n",
              "561  2001        0  2007  5.198497  9.260368  10.021359       4  8007\n",
              "562  2002        0  2007  5.262690  9.312265  10.031045       4  8007\n",
              "563  2003        0  2007  5.278115  9.338118  10.071795       4  8007"
            ],
            "text/html": [
              "\n",
              "  <div id=\"df-650aea5f-6e74-40fc-ae7c-be0d91039d15\" class=\"colab-df-container\">\n",
              "    <div>\n",
              "<style scoped>\n",
              "    .dataframe tbody tr th:only-of-type {\n",
              "        vertical-align: middle;\n",
              "    }\n",
              "\n",
              "    .dataframe tbody tr th {\n",
              "        vertical-align: top;\n",
              "    }\n",
              "\n",
              "    .dataframe thead th {\n",
              "        text-align: right;\n",
              "    }\n",
              "</style>\n",
              "<table border=\"1\" class=\"dataframe\">\n",
              "  <thead>\n",
              "    <tr style=\"text-align: right;\">\n",
              "      <th></th>\n",
              "      <th>year</th>\n",
              "      <th>treated</th>\n",
              "      <th>G</th>\n",
              "      <th>lemp</th>\n",
              "      <th>lpop</th>\n",
              "      <th>lavg_pay</th>\n",
              "      <th>region</th>\n",
              "      <th>id</th>\n",
              "    </tr>\n",
              "  </thead>\n",
              "  <tbody>\n",
              "    <tr>\n",
              "      <th>554</th>\n",
              "      <td>2001</td>\n",
              "      <td>0</td>\n",
              "      <td>2007</td>\n",
              "      <td>5.556828</td>\n",
              "      <td>9.614137</td>\n",
              "      <td>10.057495</td>\n",
              "      <td>4</td>\n",
              "      <td>8003</td>\n",
              "    </tr>\n",
              "    <tr>\n",
              "      <th>555</th>\n",
              "      <td>2002</td>\n",
              "      <td>0</td>\n",
              "      <td>2007</td>\n",
              "      <td>5.356586</td>\n",
              "      <td>9.623972</td>\n",
              "      <td>10.097120</td>\n",
              "      <td>4</td>\n",
              "      <td>8003</td>\n",
              "    </tr>\n",
              "    <tr>\n",
              "      <th>556</th>\n",
              "      <td>2003</td>\n",
              "      <td>0</td>\n",
              "      <td>2007</td>\n",
              "      <td>5.389072</td>\n",
              "      <td>9.620859</td>\n",
              "      <td>10.107611</td>\n",
              "      <td>4</td>\n",
              "      <td>8003</td>\n",
              "    </tr>\n",
              "    <tr>\n",
              "      <th>557</th>\n",
              "      <td>2004</td>\n",
              "      <td>0</td>\n",
              "      <td>2007</td>\n",
              "      <td>5.356586</td>\n",
              "      <td>9.626548</td>\n",
              "      <td>10.140337</td>\n",
              "      <td>4</td>\n",
              "      <td>8003</td>\n",
              "    </tr>\n",
              "    <tr>\n",
              "      <th>558</th>\n",
              "      <td>2005</td>\n",
              "      <td>0</td>\n",
              "      <td>2007</td>\n",
              "      <td>5.303305</td>\n",
              "      <td>9.637958</td>\n",
              "      <td>10.175497</td>\n",
              "      <td>4</td>\n",
              "      <td>8003</td>\n",
              "    </tr>\n",
              "    <tr>\n",
              "      <th>559</th>\n",
              "      <td>2006</td>\n",
              "      <td>0</td>\n",
              "      <td>2007</td>\n",
              "      <td>5.342334</td>\n",
              "      <td>9.633056</td>\n",
              "      <td>10.218590</td>\n",
              "      <td>4</td>\n",
              "      <td>8003</td>\n",
              "    </tr>\n",
              "    <tr>\n",
              "      <th>560</th>\n",
              "      <td>2007</td>\n",
              "      <td>1</td>\n",
              "      <td>2007</td>\n",
              "      <td>5.220356</td>\n",
              "      <td>9.635412</td>\n",
              "      <td>10.289702</td>\n",
              "      <td>4</td>\n",
              "      <td>8003</td>\n",
              "    </tr>\n",
              "    <tr>\n",
              "      <th>561</th>\n",
              "      <td>2001</td>\n",
              "      <td>0</td>\n",
              "      <td>2007</td>\n",
              "      <td>5.198497</td>\n",
              "      <td>9.260368</td>\n",
              "      <td>10.021359</td>\n",
              "      <td>4</td>\n",
              "      <td>8007</td>\n",
              "    </tr>\n",
              "    <tr>\n",
              "      <th>562</th>\n",
              "      <td>2002</td>\n",
              "      <td>0</td>\n",
              "      <td>2007</td>\n",
              "      <td>5.262690</td>\n",
              "      <td>9.312265</td>\n",
              "      <td>10.031045</td>\n",
              "      <td>4</td>\n",
              "      <td>8007</td>\n",
              "    </tr>\n",
              "    <tr>\n",
              "      <th>563</th>\n",
              "      <td>2003</td>\n",
              "      <td>0</td>\n",
              "      <td>2007</td>\n",
              "      <td>5.278115</td>\n",
              "      <td>9.338118</td>\n",
              "      <td>10.071795</td>\n",
              "      <td>4</td>\n",
              "      <td>8007</td>\n",
              "    </tr>\n",
              "  </tbody>\n",
              "</table>\n",
              "</div>\n",
              "    <div class=\"colab-df-buttons\">\n",
              "\n",
              "  <div class=\"colab-df-container\">\n",
              "    <button class=\"colab-df-convert\" onclick=\"convertToInteractive('df-650aea5f-6e74-40fc-ae7c-be0d91039d15')\"\n",
              "            title=\"Convert this dataframe to an interactive table.\"\n",
              "            style=\"display:none;\">\n",
              "\n",
              "  <svg xmlns=\"http://www.w3.org/2000/svg\" height=\"24px\" viewBox=\"0 -960 960 960\">\n",
              "    <path d=\"M120-120v-720h720v720H120Zm60-500h600v-160H180v160Zm220 220h160v-160H400v160Zm0 220h160v-160H400v160ZM180-400h160v-160H180v160Zm440 0h160v-160H620v160ZM180-180h160v-160H180v160Zm440 0h160v-160H620v160Z\"/>\n",
              "  </svg>\n",
              "    </button>\n",
              "\n",
              "  <style>\n",
              "    .colab-df-container {\n",
              "      display:flex;\n",
              "      gap: 12px;\n",
              "    }\n",
              "\n",
              "    .colab-df-convert {\n",
              "      background-color: #E8F0FE;\n",
              "      border: none;\n",
              "      border-radius: 50%;\n",
              "      cursor: pointer;\n",
              "      display: none;\n",
              "      fill: #1967D2;\n",
              "      height: 32px;\n",
              "      padding: 0 0 0 0;\n",
              "      width: 32px;\n",
              "    }\n",
              "\n",
              "    .colab-df-convert:hover {\n",
              "      background-color: #E2EBFA;\n",
              "      box-shadow: 0px 1px 2px rgba(60, 64, 67, 0.3), 0px 1px 3px 1px rgba(60, 64, 67, 0.15);\n",
              "      fill: #174EA6;\n",
              "    }\n",
              "\n",
              "    .colab-df-buttons div {\n",
              "      margin-bottom: 4px;\n",
              "    }\n",
              "\n",
              "    [theme=dark] .colab-df-convert {\n",
              "      background-color: #3B4455;\n",
              "      fill: #D2E3FC;\n",
              "    }\n",
              "\n",
              "    [theme=dark] .colab-df-convert:hover {\n",
              "      background-color: #434B5C;\n",
              "      box-shadow: 0px 1px 3px 1px rgba(0, 0, 0, 0.15);\n",
              "      filter: drop-shadow(0px 1px 2px rgba(0, 0, 0, 0.3));\n",
              "      fill: #FFFFFF;\n",
              "    }\n",
              "  </style>\n",
              "\n",
              "    <script>\n",
              "      const buttonEl =\n",
              "        document.querySelector('#df-650aea5f-6e74-40fc-ae7c-be0d91039d15 button.colab-df-convert');\n",
              "      buttonEl.style.display =\n",
              "        google.colab.kernel.accessAllowed ? 'block' : 'none';\n",
              "\n",
              "      async function convertToInteractive(key) {\n",
              "        const element = document.querySelector('#df-650aea5f-6e74-40fc-ae7c-be0d91039d15');\n",
              "        const dataTable =\n",
              "          await google.colab.kernel.invokeFunction('convertToInteractive',\n",
              "                                                    [key], {});\n",
              "        if (!dataTable) return;\n",
              "\n",
              "        const docLinkHtml = 'Like what you see? Visit the ' +\n",
              "          '<a target=\"_blank\" href=https://colab.research.google.com/notebooks/data_table.ipynb>data table notebook</a>'\n",
              "          + ' to learn more about interactive tables.';\n",
              "        element.innerHTML = '';\n",
              "        dataTable['output_type'] = 'display_data';\n",
              "        await google.colab.output.renderOutput(dataTable, element);\n",
              "        const docLink = document.createElement('div');\n",
              "        docLink.innerHTML = docLinkHtml;\n",
              "        element.appendChild(docLink);\n",
              "      }\n",
              "    </script>\n",
              "  </div>\n",
              "\n",
              "\n",
              "<div id=\"df-89997957-2e7c-405f-8805-c4cd31a8fb62\">\n",
              "  <button class=\"colab-df-quickchart\" onclick=\"quickchart('df-89997957-2e7c-405f-8805-c4cd31a8fb62')\"\n",
              "            title=\"Suggest charts\"\n",
              "            style=\"display:none;\">\n",
              "\n",
              "<svg xmlns=\"http://www.w3.org/2000/svg\" height=\"24px\"viewBox=\"0 0 24 24\"\n",
              "     width=\"24px\">\n",
              "    <g>\n",
              "        <path d=\"M19 3H5c-1.1 0-2 .9-2 2v14c0 1.1.9 2 2 2h14c1.1 0 2-.9 2-2V5c0-1.1-.9-2-2-2zM9 17H7v-7h2v7zm4 0h-2V7h2v10zm4 0h-2v-4h2v4z\"/>\n",
              "    </g>\n",
              "</svg>\n",
              "  </button>\n",
              "\n",
              "<style>\n",
              "  .colab-df-quickchart {\n",
              "      --bg-color: #E8F0FE;\n",
              "      --fill-color: #1967D2;\n",
              "      --hover-bg-color: #E2EBFA;\n",
              "      --hover-fill-color: #174EA6;\n",
              "      --disabled-fill-color: #AAA;\n",
              "      --disabled-bg-color: #DDD;\n",
              "  }\n",
              "\n",
              "  [theme=dark] .colab-df-quickchart {\n",
              "      --bg-color: #3B4455;\n",
              "      --fill-color: #D2E3FC;\n",
              "      --hover-bg-color: #434B5C;\n",
              "      --hover-fill-color: #FFFFFF;\n",
              "      --disabled-bg-color: #3B4455;\n",
              "      --disabled-fill-color: #666;\n",
              "  }\n",
              "\n",
              "  .colab-df-quickchart {\n",
              "    background-color: var(--bg-color);\n",
              "    border: none;\n",
              "    border-radius: 50%;\n",
              "    cursor: pointer;\n",
              "    display: none;\n",
              "    fill: var(--fill-color);\n",
              "    height: 32px;\n",
              "    padding: 0;\n",
              "    width: 32px;\n",
              "  }\n",
              "\n",
              "  .colab-df-quickchart:hover {\n",
              "    background-color: var(--hover-bg-color);\n",
              "    box-shadow: 0 1px 2px rgba(60, 64, 67, 0.3), 0 1px 3px 1px rgba(60, 64, 67, 0.15);\n",
              "    fill: var(--button-hover-fill-color);\n",
              "  }\n",
              "\n",
              "  .colab-df-quickchart-complete:disabled,\n",
              "  .colab-df-quickchart-complete:disabled:hover {\n",
              "    background-color: var(--disabled-bg-color);\n",
              "    fill: var(--disabled-fill-color);\n",
              "    box-shadow: none;\n",
              "  }\n",
              "\n",
              "  .colab-df-spinner {\n",
              "    border: 2px solid var(--fill-color);\n",
              "    border-color: transparent;\n",
              "    border-bottom-color: var(--fill-color);\n",
              "    animation:\n",
              "      spin 1s steps(1) infinite;\n",
              "  }\n",
              "\n",
              "  @keyframes spin {\n",
              "    0% {\n",
              "      border-color: transparent;\n",
              "      border-bottom-color: var(--fill-color);\n",
              "      border-left-color: var(--fill-color);\n",
              "    }\n",
              "    20% {\n",
              "      border-color: transparent;\n",
              "      border-left-color: var(--fill-color);\n",
              "      border-top-color: var(--fill-color);\n",
              "    }\n",
              "    30% {\n",
              "      border-color: transparent;\n",
              "      border-left-color: var(--fill-color);\n",
              "      border-top-color: var(--fill-color);\n",
              "      border-right-color: var(--fill-color);\n",
              "    }\n",
              "    40% {\n",
              "      border-color: transparent;\n",
              "      border-right-color: var(--fill-color);\n",
              "      border-top-color: var(--fill-color);\n",
              "    }\n",
              "    60% {\n",
              "      border-color: transparent;\n",
              "      border-right-color: var(--fill-color);\n",
              "    }\n",
              "    80% {\n",
              "      border-color: transparent;\n",
              "      border-right-color: var(--fill-color);\n",
              "      border-bottom-color: var(--fill-color);\n",
              "    }\n",
              "    90% {\n",
              "      border-color: transparent;\n",
              "      border-bottom-color: var(--fill-color);\n",
              "    }\n",
              "  }\n",
              "</style>\n",
              "\n",
              "  <script>\n",
              "    async function quickchart(key) {\n",
              "      const quickchartButtonEl =\n",
              "        document.querySelector('#' + key + ' button');\n",
              "      quickchartButtonEl.disabled = true;  // To prevent multiple clicks.\n",
              "      quickchartButtonEl.classList.add('colab-df-spinner');\n",
              "      try {\n",
              "        const charts = await google.colab.kernel.invokeFunction(\n",
              "            'suggestCharts', [key], {});\n",
              "      } catch (error) {\n",
              "        console.error('Error during call to suggestCharts:', error);\n",
              "      }\n",
              "      quickchartButtonEl.classList.remove('colab-df-spinner');\n",
              "      quickchartButtonEl.classList.add('colab-df-quickchart-complete');\n",
              "    }\n",
              "    (() => {\n",
              "      let quickchartButtonEl =\n",
              "        document.querySelector('#df-89997957-2e7c-405f-8805-c4cd31a8fb62 button');\n",
              "      quickchartButtonEl.style.display =\n",
              "        google.colab.kernel.accessAllowed ? 'block' : 'none';\n",
              "    })();\n",
              "  </script>\n",
              "</div>\n",
              "\n",
              "    </div>\n",
              "  </div>\n"
            ],
            "application/vnd.google.colaboratory.intrinsic+json": {
              "type": "dataframe",
              "variable_name": "data",
              "summary": "{\n  \"name\": \"data\",\n  \"rows\": 17549,\n  \"fields\": [\n    {\n      \"column\": \"year\",\n      \"properties\": {\n        \"dtype\": \"number\",\n        \"std\": 2,\n        \"min\": 2001,\n        \"max\": 2007,\n        \"num_unique_values\": 7,\n        \"samples\": [\n          2001,\n          2002,\n          2006\n        ],\n        \"semantic_type\": \"\",\n        \"description\": \"\"\n      }\n    },\n    {\n      \"column\": \"treated\",\n      \"properties\": {\n        \"dtype\": \"number\",\n        \"std\": 0,\n        \"min\": 0,\n        \"max\": 1,\n        \"num_unique_values\": 2,\n        \"samples\": [\n          1,\n          0\n        ],\n        \"semantic_type\": \"\",\n        \"description\": \"\"\n      }\n    },\n    {\n      \"column\": \"G\",\n      \"properties\": {\n        \"dtype\": \"number\",\n        \"std\": 994,\n        \"min\": 0,\n        \"max\": 2007,\n        \"num_unique_values\": 6,\n        \"samples\": [\n          2007,\n          2006\n        ],\n        \"semantic_type\": \"\",\n        \"description\": \"\"\n      }\n    },\n    {\n      \"column\": \"lemp\",\n      \"properties\": {\n        \"dtype\": \"number\",\n        \"std\": 1.566678961655767,\n        \"min\": 1.09861228866811,\n        \"max\": 11.3878836479893,\n        \"num_unique_values\": 3688,\n        \"samples\": [\n          7.99967857949945,\n          9.30710404040849\n        ],\n        \"semantic_type\": \"\",\n        \"description\": \"\"\n      }\n    },\n    {\n      \"column\": \"lpop\",\n      \"properties\": {\n        \"dtype\": \"number\",\n        \"std\": 1.3923167463103474,\n        \"min\": 6.39692965521615,\n        \"max\": 15.4979325397814,\n        \"num_unique_values\": 15729,\n        \"samples\": [\n          9.84808054526439,\n          10.0335504368343\n        ],\n        \"semantic_type\": \"\",\n        \"description\": \"\"\n      }\n    },\n    {\n      \"column\": \"lavg_pay\",\n      \"properties\": {\n        \"dtype\": \"number\",\n        \"std\": 0.20813753808204674,\n        \"min\": 9.4953689269624,\n        \"max\": 11.5219644896209,\n        \"num_unique_values\": 11630,\n        \"samples\": [\n          10.4101545411533,\n          10.4249563364006\n        ],\n        \"semantic_type\": \"\",\n        \"description\": \"\"\n      }\n    },\n    {\n      \"column\": \"region\",\n      \"properties\": {\n        \"dtype\": \"number\",\n        \"std\": 0,\n        \"min\": 1,\n        \"max\": 4,\n        \"num_unique_values\": 4,\n        \"samples\": [\n          3,\n          1\n        ],\n        \"semantic_type\": \"\",\n        \"description\": \"\"\n      }\n    },\n    {\n      \"column\": \"id\",\n      \"properties\": {\n        \"dtype\": \"number\",\n        \"std\": 13631,\n        \"min\": 8001,\n        \"max\": 55141,\n        \"num_unique_values\": 2507,\n        \"samples\": [\n          48313,\n          8121\n        ],\n        \"semantic_type\": \"\",\n        \"description\": \"\"\n      }\n    }\n  ]\n}"
            }
          },
          "metadata": {},
          "execution_count": 4
        }
      ],
      "source": [
        "url = \"https://raw.githubusercontent.com/CausalAIBook/MetricsMLNotebooks/main/data/minwage_data.csv\"\n",
        "data = pd.read_csv(url,index_col=0)\n",
        "\n",
        "# Remove observations that are already treated in the first observed period (2001).\n",
        "data = data.loc[(data.G == 0) | (data.G > 2001)]\n",
        "\n",
        "# Drop all variables that we won't use\n",
        "data.drop(columns=[\"countyreal\", \"state_name\", \"FIPS\", \"emp0A01_BS\",\n",
        "                   \"quarter\", \"censusdiv\", \"pop\", \"annual_avg_pay\",\n",
        "                   \"state_mw\", \"fed_mw\", \"ever_treated\"], inplace=True)\n",
        "\n",
        "data.head(10)"
      ]
    },
    {
      "cell_type": "code",
      "execution_count": null,
      "metadata": {
        "id": "S028c6v7KbUG"
      },
      "outputs": [],
      "source": [
        "# Visualize the treatment cohorts using panelview\n",
        "\n",
        "\n"
      ]
    },
    {
      "cell_type": "code",
      "execution_count": null,
      "metadata": {
        "id": "h5nUsWxUKbUG"
      },
      "outputs": [],
      "source": [
        "# Visualize the trends of employment for each treatment cohort\n",
        "\n"
      ]
    },
    {
      "cell_type": "markdown",
      "metadata": {
        "id": "_AvK6ofmKbUG"
      },
      "source": [
        "Even though we know the problems of using TWFE with staggered adoption, we will use it as a benchmark to compare with the other methods."
      ]
    },
    {
      "cell_type": "code",
      "execution_count": null,
      "metadata": {
        "id": "-ZzKfi81KbUG"
      },
      "outputs": [],
      "source": [
        "# TWFE no dynamics\n",
        "\n"
      ]
    },
    {
      "cell_type": "code",
      "source": [
        "# TWFE with dynamic treatment effects\n",
        "\n"
      ],
      "metadata": {
        "id": "Vi1Wm6LgLEJ0"
      },
      "execution_count": null,
      "outputs": []
    },
    {
      "cell_type": "markdown",
      "metadata": {
        "id": "xxH47VlRKbUH"
      },
      "source": [
        "## Callaway and Sant'Anna (2020)\n",
        "\n",
        "CS propose two ways of dealing with the negative weights.\n",
        "\n",
        "1. Compare average outcomes in any post-adoption period $(\\bar{Y}_{t \\mid a} \\text{ for } t \\geq a)$ to average outcomes for the same group immediately prior to the adoption $(\\bar{Y}_{a-1 \\mid a})$. Then, subtract the difference in outcomes for the same two time periods for the single group that never adopts the treatment $(a=\\infty)$. Formally, for $t \\geq a$, this double difference is\n",
        "$$\n",
        "\\hat{\\tau}_{t, a-1}^{a, \\infty}=\\left(\\bar{Y}_{t \\mid a}-\\bar{Y}_{a-1 \\mid a}\\right)-\\left(\\bar{Y}_{t \\mid \\infty}-\\bar{Y}_{a-1 \\mid \\infty}\\right) .\n",
        "$$\n",
        "\n",
        "2. Same as above, but instead of using the group that never adopts the treatment as the control group, use the average of the groups that do adopt the treatment, but restrict this to those who adopt after period $t$.\n",
        "$$\n",
        "\\hat{\\tau}_{t, a-1}^{a,>t} \\equiv\\left(\\bar{Y}_{t \\mid a}-\\bar{Y}_{a-1 \\mid a}\\right)-\\frac{1}{T-t} \\sum_{a^{\\prime}=t+1}^T\\left(\\bar{Y}_{t \\mid a^{\\prime}}-\\bar{Y}_{a-1 \\mid a^{\\prime}}\\right)\n",
        "$$\n",
        "\n",
        "3. Given these two estimators, CS suggest reporting averages over periods $t$ and adoption dates $a$, using a variety of possible weight functions $\\omega(a, t)$. This leads to an average of treatment effects, over different adoption dates, at exactly $e$ periods after adoption, for their two control groups,\n",
        "$$\n",
        "\\hat{\\tau}^{\\mathrm{CS}, \\mathrm{I}}(e)=\\sum_{a=2}^{T-e} \\omega_e(a, t) \\cdot \\hat{\\tau}_{t, a-1}^{a, \\infty}, \\quad \\text { or } \\quad \\hat{\\tau}^{\\mathrm{CS}, \\mathrm{II}}(e)=\\sum_{a=2}^{T-e} \\omega_e(a, t) \\cdot \\hat{\\tau}_{t, a-1}^{a,>t} .\n",
        "$$\n",
        "\n",
        "A concern is that the control group that never adopts the treatment might be fundamentally different from the other groups and thus less suitable as a comparison for the trends in the absence of the treatment."
      ]
    },
    {
      "cell_type": "code",
      "execution_count": null,
      "metadata": {
        "id": "eqhKGvunKbUH"
      },
      "outputs": [],
      "source": [
        "from csdid.att_gt import ATTgt\n",
        "\n",
        "# Estimate group-time average treatment effects without covariates\n",
        "attgt ="
      ]
    },
    {
      "cell_type": "code",
      "execution_count": null,
      "metadata": {
        "id": "z4u3OCCAKbUH"
      },
      "outputs": [],
      "source": [
        "# Plot the treatment effects by group\n",
        "\n"
      ]
    },
    {
      "cell_type": "code",
      "execution_count": null,
      "metadata": {
        "id": "_bYbGPzIKbUH"
      },
      "outputs": [],
      "source": [
        "# Agreggated treatment effect\n",
        "\n"
      ]
    },
    {
      "cell_type": "code",
      "execution_count": null,
      "metadata": {
        "id": "saDtcS6KKbUH"
      },
      "outputs": [],
      "source": [
        "# Agreggated by group\n",
        "\n"
      ]
    },
    {
      "cell_type": "code",
      "execution_count": null,
      "metadata": {
        "id": "yBha3p20KbUI"
      },
      "outputs": [],
      "source": [
        "# Agreggated by time\n",
        "\n"
      ]
    },
    {
      "cell_type": "markdown",
      "metadata": {
        "id": "rF4RDCb6KbUI"
      },
      "source": [
        "What happen if we introduce covariates? And what if we use the not-yet-adopted group as control group?"
      ]
    },
    {
      "cell_type": "code",
      "execution_count": null,
      "metadata": {
        "id": "1PycifMXKbUI"
      },
      "outputs": [],
      "source": []
    }
  ],
  "metadata": {
    "kernelspec": {
      "display_name": "causalML",
      "language": "python",
      "name": "python3"
    },
    "language_info": {
      "codemirror_mode": {
        "name": "ipython",
        "version": 3
      },
      "file_extension": ".py",
      "mimetype": "text/x-python",
      "name": "python",
      "nbconvert_exporter": "python",
      "pygments_lexer": "ipython3",
      "version": "3.9.18"
    },
    "colab": {
      "provenance": [],
      "include_colab_link": true
    }
  },
  "nbformat": 4,
  "nbformat_minor": 0
}